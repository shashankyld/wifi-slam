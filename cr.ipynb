{
 "cells": [
  {
   "cell_type": "code",
   "execution_count": 1,
   "id": "854b2924-f013-4a60-9965-5fe634cb8bbb",
   "metadata": {},
   "outputs": [],
   "source": [
    "import numpy as np\n",
    "import pandas as pd"
   ]
  },
  {
   "cell_type": "code",
   "execution_count": null,
   "id": "6bff4913-496f-4e90-8ce9-87fd0bd09036",
   "metadata": {},
   "outputs": [],
   "source": [
    "# Specify the path to your CSV file\n",
    "csv_file_path = 'your_file.csv'"
   ]
  },
  {
   "cell_type": "code",
   "execution_count": null,
   "id": "ba98be47-eb8f-4d40-8ce2-0b4ad994207c",
   "metadata": {},
   "outputs": [],
   "source": [
    "# Use pd.read_csv() to load the data into a DataFrame\n",
    "df = pd.read_csv(csv_file_path)"
   ]
  },
  {
   "cell_type": "code",
   "execution_count": null,
   "id": "38bc4b3e-da8d-4a8e-9393-28625251c738",
   "metadata": {},
   "outputs": [],
   "source": [
    "def overlap_APs(fi,fj):\n",
    "    fi_mask = (fi > 0.0)\n",
    "    fj_mask = (fj > 0.0)\n",
    "    overlap_array_mask = np.array((fi_mask & fj_mask).to_list())\n",
    "    return overlap_array_mask"
   ]
  },
  {
   "cell_type": "code",
   "execution_count": null,
   "id": "b2dd1b2b-a572-4fa1-9f42-cd016d46535e",
   "metadata": {},
   "outputs": [],
   "source": [
    "def detection_likelihood(fi, fj):\n",
    "    # Take numbers of APs for each FP\n",
    "    Li = fi['num_APs']\n",
    "    Lj = fj['num_APs']\n",
    "    # We just need list of RSS of each AP\n",
    "    fi = fi.iloc[[0,1,2]]\n",
    "    fj = fj.iloc[[0,1,2]]\n",
    "    H = np.sum(overlap_APs(fi,fj))\n",
    "    dl = np.divide(H, Li + Lj - H)\n",
    "    return dl"
   ]
  },
  {
   "cell_type": "code",
   "execution_count": null,
   "id": "0054ecbe-243c-432e-9bf6-37c2e45d33fa",
   "metadata": {},
   "outputs": [],
   "source": [
    "def signal_strength_likelihood(fi, fj):\n",
    "    sigma = 0.3\n",
    "    fi = fi.iloc[[0,1,2]]\n",
    "    fj = fj.iloc[[0,1,2]]\n",
    "    overlap_array_mask = overlap_APs(fi, fj)\n",
    "    overlap_indices = np.where(overlap_array_mask)[0]\n",
    "    H = np.sum(overlap_array_mask)\n",
    "    prod = 1.0\n",
    "    for idx in overlap_indices:\n",
    "        a = np.power(fi.iloc[idx] - fj.iloc[idx], 2)\n",
    "        b = np.divide(a, 2*np.power(sigma,2))\n",
    "        c = np.exp(-b)\n",
    "        prod = prod * c\n",
    "    \n",
    "    ssl = np.divide(prod, H)\n",
    "    return ssl"
   ]
  },
  {
   "cell_type": "code",
   "execution_count": null,
   "id": "5d6caf75-fec0-49f7-b14f-db89c4e2134f",
   "metadata": {},
   "outputs": [],
   "source": []
  }
 ],
 "metadata": {
  "kernelspec": {
   "display_name": "Python 3 (ipykernel)",
   "language": "python",
   "name": "python3"
  },
  "language_info": {
   "codemirror_mode": {
    "name": "ipython",
    "version": 3
   },
   "file_extension": ".py",
   "mimetype": "text/x-python",
   "name": "python",
   "nbconvert_exporter": "python",
   "pygments_lexer": "ipython3",
   "version": "3.9.7"
  }
 },
 "nbformat": 4,
 "nbformat_minor": 5
}
